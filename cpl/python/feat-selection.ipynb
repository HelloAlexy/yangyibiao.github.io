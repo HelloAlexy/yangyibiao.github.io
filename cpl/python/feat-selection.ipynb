{
 "cells": [
  {
   "cell_type": "markdown",
   "metadata": {},
   "source": [
    "特征选择"
   ]
  },
  {
   "cell_type": "code",
   "execution_count": 1,
   "metadata": {},
   "outputs": [
    {
     "data": {
      "text/plain": [
       "(4, 13)"
      ]
     },
     "execution_count": 1,
     "metadata": {},
     "output_type": "execute_result"
    }
   ],
   "source": [
    "import numpy as np\n",
    "from sklearn.feature_selection import VarianceThreshold\n",
    "\n",
    "X = np.array([\n",
    "       [1., 1., 0., 0., 1., 0., 0., 1., 0., 0., 1., 0., 1.],\n",
    "       [1., 0., 0., 1., 1., 0., 0., 1., 0., 1., 0., 1., 0.],\n",
    "       [1., 0., 1., 0., 0., 1., 0., 1., 1., 0., 0., 1., 0.],\n",
    "       [1., 0., 0., 1., 1., 0., 1., 0., 0., 0., 1., 0., 1.]\n",
    "])\n",
    "X.shape"
   ]
  },
  {
   "cell_type": "code",
   "execution_count": 2,
   "metadata": {},
   "outputs": [
    {
     "data": {
      "text/plain": [
       "array([[1., 0., 0., 1., 0., 0., 1., 0., 0., 1., 0., 1.],\n",
       "       [0., 0., 1., 1., 0., 0., 1., 0., 1., 0., 1., 0.],\n",
       "       [0., 1., 0., 0., 1., 0., 1., 1., 0., 0., 1., 0.],\n",
       "       [0., 0., 1., 1., 0., 1., 0., 0., 0., 1., 0., 1.]])"
      ]
     },
     "execution_count": 2,
     "metadata": {},
     "output_type": "execute_result"
    }
   ],
   "source": [
    "XX = VarianceThreshold(threshold=0.01).fit_transform(X)\n",
    "XX"
   ]
  },
  {
   "cell_type": "code",
   "execution_count": 3,
   "metadata": {},
   "outputs": [
    {
     "data": {
      "text/plain": [
       "(4, 12)"
      ]
     },
     "execution_count": 3,
     "metadata": {},
     "output_type": "execute_result"
    }
   ],
   "source": [
    "XX.shape"
   ]
  },
  {
   "cell_type": "code",
   "execution_count": 6,
   "metadata": {},
   "outputs": [
    {
     "data": {
      "text/plain": [
       "array([7.52941176, 1.        , 1.        , 0.        , 1.        ,\n",
       "       1.        , 1.        , 1.        , 1.        , 1.        ,\n",
       "       0.        , 0.        , 0.        ])"
      ]
     },
     "execution_count": 6,
     "metadata": {},
     "output_type": "execute_result"
    }
   ],
   "source": [
    "import numpy as np\n",
    "from sklearn.feature_selection import SelectKBest, f_classif\n",
    "X = np.array([\n",
    "    [1., 1., 0., 0., 1., 0., 0., 1., 0., 0., 1., 0., 1.],\n",
    "    [6., 0., 0., 1., 1., 0., 0., 1., 0., 1., 0., 1., 0.],\n",
    "    [10., 0., 1., 0., 0., 1., 0., 1., 1., 0., 0., 1., 0.],\n",
    "    [13., 0., 0., 1., 1., 0., 1., 0., 0., 0., 1., 0., 1.],\n",
    "])\n",
    "y = [1, 1, 0, 0]\n",
    "\n",
    "sk = SelectKBest(f_classif)\n",
    "sk.fit_transform(X, y)\n",
    "sk.scores_\n"
   ]
  },
  {
   "cell_type": "code",
   "execution_count": 7,
   "metadata": {},
   "outputs": [
    {
     "data": {
      "text/plain": [
       "array([8.53333333, 1.        , 1.        , 0.        , 0.33333333,\n",
       "       1.        , 1.        , 0.33333333, 1.        , 1.        ,\n",
       "       0.        , 0.        , 0.        ])"
      ]
     },
     "execution_count": 7,
     "metadata": {},
     "output_type": "execute_result"
    }
   ],
   "source": [
    "import numpy as np\n",
    "from sklearn.feature_selection import SelectKBest, chi2\n",
    "\n",
    "X = np.array([\n",
    "    [1., 1., 0., 0., 1., 0., 0., 1., 0., 0., 1., 0., 1.],\n",
    "    [6., 0., 0., 1., 1., 0., 0., 1., 0., 1., 0., 1., 0.],\n",
    "    [10., 0., 1., 0., 0., 1., 0., 1., 1., 0., 0., 1., 0.],\n",
    "    [13., 0., 0., 1., 1., 0., 1., 0., 0., 0., 1., 0., 1.],\n",
    "])\n",
    "y = [1, 1, 0, 0]\n",
    "\n",
    "sk = SelectKBest(chi2)\n",
    "sk.fit_transform(X, y)\n",
    "sk.scores_\n"
   ]
  },
  {
   "cell_type": "code",
   "execution_count": 8,
   "metadata": {},
   "outputs": [
    {
     "data": {
      "text/plain": [
       "array([0.08333333, 0.        , 0.        , 0.        , 0.08333333,\n",
       "       0.        , 0.        , 0.08333333, 0.        , 0.        ,\n",
       "       0.        , 0.        , 0.        ])"
      ]
     },
     "execution_count": 8,
     "metadata": {},
     "output_type": "execute_result"
    }
   ],
   "source": [
    "import numpy as np\n",
    "from sklearn.feature_selection import SelectKBest, mutual_info_classif\n",
    "\n",
    "X = np.array([\n",
    "    [1., 1., 0., 0., 1., 0., 0., 1., 0., 0., 1., 0., 1.],\n",
    "    [6., 0., 0., 1., 1., 0., 0., 1., 0., 1., 0., 1., 0.],\n",
    "    [10., 0., 1., 0., 0., 1., 0., 1., 1., 0., 0., 1., 0.],\n",
    "    [13., 0., 0., 1., 1., 0., 1., 0., 0., 0., 1., 0., 1.],\n",
    "])\n",
    "y = [1, 1, 0, 0]\n",
    "\n",
    "sk = SelectKBest(mutual_info_classif)\n",
    "sk.fit_transform(X, y)\n",
    "sk.scores_"
   ]
  },
  {
   "cell_type": "code",
   "execution_count": 10,
   "metadata": {},
   "outputs": [
    {
     "data": {
      "text/plain": [
       "array([-0.88888889,  0.57735027, -0.57735027,  0.        ,  0.57735027,\n",
       "       -0.57735027, -0.57735027,  0.57735027, -0.57735027,  0.57735027,\n",
       "        0.        ,  0.        ,  0.        ,  1.        ])"
      ]
     },
     "execution_count": 10,
     "metadata": {},
     "output_type": "execute_result"
    }
   ],
   "source": [
    "import numpy as np\n",
    "\n",
    "X = np.array([\n",
    "    [1., 1., 0., 0., 1., 0., 0., 1., 0., 0., 1., 0., 1., 1.],\n",
    "    [6., 0., 0., 1., 1., 0., 0., 1., 0., 1., 0., 1., 0., 1.],\n",
    "    [10., 0., 1., 0., 0., 1., 0., 1., 1., 0., 0., 1., 0., 0.],\n",
    "    [13., 0., 0., 1., 1., 0., 1., 0., 0., 0., 1., 0., 1., 0.],\n",
    "])\n",
    "corr = np.corrcoef(X, rowvar=False)\n",
    "corr[-1,:]"
   ]
  }
 ],
 "metadata": {
  "interpreter": {
   "hash": "e7370f93d1d0cde622a1f8e1c04877d8463912d04d973331ad4851f04de6915a"
  },
  "kernelspec": {
   "display_name": "Python 3.9.7 64-bit",
   "name": "python3"
  },
  "language_info": {
   "codemirror_mode": {
    "name": "ipython",
    "version": 3
   },
   "file_extension": ".py",
   "mimetype": "text/x-python",
   "name": "python",
   "nbconvert_exporter": "python",
   "pygments_lexer": "ipython3",
   "version": "3.10.4"
  },
  "orig_nbformat": 4
 },
 "nbformat": 4,
 "nbformat_minor": 2
}
