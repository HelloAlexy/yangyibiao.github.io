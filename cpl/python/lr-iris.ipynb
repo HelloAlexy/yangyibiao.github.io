{
 "cells": [
  {
   "cell_type": "code",
   "execution_count": 1,
   "metadata": {},
   "outputs": [
    {
     "name": "stdout",
     "output_type": "stream",
     "text": [
      "RUNNING THE L-BFGS-B CODE\n",
      "\n",
      "           * * *\n",
      "\n",
      "Machine precision = 2.220D-16\n",
      " N =           15     M =           10\n",
      "\n",
      "At X0         0 variables are exactly at the bounds\n",
      "\n",
      "At iterate    0    f=  1.31833D+02    |proj g|=  9.10667D+01\n",
      "\n",
      "           * * *\n",
      "\n",
      "Tit   = total number of iterations\n",
      "Tnf   = total number of function evaluations\n",
      "Tnint = total number of segments explored during Cauchy searches\n",
      "Skip  = number of BFGS updates skipped\n",
      "Nact  = number of active bounds at final generalized Cauchy point\n",
      "Projg = norm of the final projected gradient\n",
      "F     = final function value\n",
      "\n",
      "           * * *\n",
      "\n",
      "   N    Tit     Tnf  Tnint  Skip  Nact     Projg        F\n"
     ]
    },
    {
     "name": "stderr",
     "output_type": "stream",
     "text": [
      "[Parallel(n_jobs=1)]: Using backend SequentialBackend with 1 concurrent workers.\n",
      " This problem is unconstrained.\n",
      "[Parallel(n_jobs=1)]: Done   1 out of   1 | elapsed:    0.0s finished\n"
     ]
    },
    {
     "data": {
      "text/plain": [
       "1.0"
      ]
     },
     "execution_count": 1,
     "metadata": {},
     "output_type": "execute_result"
    },
    {
     "name": "stdout",
     "output_type": "stream",
     "text": [
      "   15     49     62      1     0     0   4.737D-04   5.589D+00\n",
      "  F =   5.5893569036256245     \n",
      "\n",
      "CONVERGENCE: REL_REDUCTION_OF_F_<=_FACTR*EPSMCH             \n"
     ]
    }
   ],
   "source": [
    "import numpy as np\n",
    "from sklearn.datasets import load_iris\n",
    "from sklearn.linear_model import LogisticRegression\n",
    "from sklearn.model_selection import train_test_split\n",
    "from sklearn.preprocessing import OneHotEncoder\n",
    "\n",
    "iris = load_iris()\n",
    "X, y = iris.data, iris.target\n",
    "X_train, X_test, y_train, y_test = train_test_split(X, y, test_size=0.2, random_state=42)\n",
    "\n",
    "clf = LogisticRegression(penalty='none', verbose=True)  # 无正则项 输出日志\n",
    "clf.fit(X_train, y_train)\n",
    "clf.score(X_test, y_test)"
   ]
  },
  {
   "cell_type": "code",
   "execution_count": 3,
   "metadata": {},
   "outputs": [
    {
     "data": {
      "text/plain": [
       "array([[0., 1., 0.],\n",
       "       [1., 0., 0.],\n",
       "       [0., 0., 1.],\n",
       "       [0., 1., 0.],\n",
       "       [0., 1., 0.],\n",
       "       [1., 0., 0.],\n",
       "       [0., 1., 0.],\n",
       "       [0., 0., 1.],\n",
       "       [0., 1., 0.],\n",
       "       [0., 1., 0.],\n",
       "       [0., 0., 1.],\n",
       "       [1., 0., 0.],\n",
       "       [1., 0., 0.],\n",
       "       [1., 0., 0.],\n",
       "       [1., 0., 0.],\n",
       "       [0., 1., 0.],\n",
       "       [0., 0., 1.],\n",
       "       [0., 1., 0.],\n",
       "       [0., 1., 0.],\n",
       "       [0., 0., 1.],\n",
       "       [1., 0., 0.],\n",
       "       [0., 0., 1.],\n",
       "       [1., 0., 0.],\n",
       "       [0., 0., 1.],\n",
       "       [0., 0., 1.],\n",
       "       [0., 0., 1.],\n",
       "       [0., 0., 1.],\n",
       "       [0., 0., 1.],\n",
       "       [1., 0., 0.],\n",
       "       [1., 0., 0.]])"
      ]
     },
     "execution_count": 3,
     "metadata": {},
     "output_type": "execute_result"
    }
   ],
   "source": [
    "OneHotEncoder().fit_transform(y_test[:, np.newaxis]).toarray()"
   ]
  },
  {
   "cell_type": "code",
   "execution_count": 9,
   "metadata": {},
   "outputs": [
    {
     "data": {
      "text/plain": [
       "array([[1.88995213e-15, 9.99887032e-01, 1.12968186e-04],\n",
       "       [1.00000000e+00, 1.06030446e-13, 1.61146012e-37],\n",
       "       [2.34667797e-41, 1.07023162e-11, 1.00000000e+00],\n",
       "       [6.21159520e-14, 9.98139517e-01, 1.86048274e-03],\n",
       "       [1.00449599e-14, 9.98435547e-01, 1.56445297e-03],\n",
       "       [1.00000000e+00, 1.98333658e-12, 8.75409602e-35],\n",
       "       [7.58010355e-08, 9.99999832e-01, 9.18241192e-08],\n",
       "       [8.36463589e-20, 1.88306452e-04, 9.99811694e-01],\n",
       "       [5.27298441e-17, 8.70853181e-01, 1.29146819e-01],\n",
       "       [1.45094379e-10, 9.99999448e-01, 5.51510245e-07],\n",
       "       [6.28254238e-18, 2.17459760e-02, 9.78254024e-01],\n",
       "       [1.00000000e+00, 4.89303790e-10, 3.77427415e-33],\n",
       "       [1.00000000e+00, 7.22045678e-15, 9.14311735e-40],\n",
       "       [9.99999999e-01, 5.19318165e-10, 3.74068137e-33],\n",
       "       [1.00000000e+00, 8.49922121e-14, 8.81638050e-38],\n",
       "       [7.71165641e-13, 9.98276490e-01, 1.72351024e-03],\n",
       "       [5.56328926e-29, 6.23226675e-07, 9.99999377e-01],\n",
       "       [5.99786952e-12, 9.99999357e-01, 6.42707897e-07],\n",
       "       [5.74797663e-15, 9.99739046e-01, 2.60953590e-04],\n",
       "       [1.17027774e-28, 6.72720611e-07, 9.99999327e-01],\n",
       "       [9.99999996e-01, 3.50352401e-09, 2.31821675e-31],\n",
       "       [4.16008331e-17, 2.53905554e-01, 7.46094446e-01],\n",
       "       [1.00000000e+00, 1.02762174e-10, 2.44475510e-32],\n",
       "       [7.45084352e-28, 3.48907882e-06, 9.99996511e-01],\n",
       "       [4.11711541e-23, 5.49426688e-04, 9.99450573e-01],\n",
       "       [2.19606769e-22, 2.69569986e-05, 9.99973043e-01],\n",
       "       [4.37496068e-29, 2.23589072e-05, 9.99977641e-01],\n",
       "       [2.52950299e-28, 3.91596903e-07, 9.99999608e-01],\n",
       "       [9.99999999e-01, 7.37325887e-10, 1.52992058e-31],\n",
       "       [9.99999994e-01, 6.37873593e-09, 6.77211243e-31]])"
      ]
     },
     "execution_count": 9,
     "metadata": {},
     "output_type": "execute_result"
    }
   ],
   "source": [
    "clf.predict_proba(X_test)"
   ]
  }
 ],
 "metadata": {
  "interpreter": {
   "hash": "e7370f93d1d0cde622a1f8e1c04877d8463912d04d973331ad4851f04de6915a"
  },
  "kernelspec": {
   "display_name": "Python 3.10.4 64-bit",
   "language": "python",
   "name": "python3"
  },
  "language_info": {
   "codemirror_mode": {
    "name": "ipython",
    "version": 3
   },
   "file_extension": ".py",
   "mimetype": "text/x-python",
   "name": "python",
   "nbconvert_exporter": "python",
   "pygments_lexer": "ipython3",
   "version": "3.10.4"
  },
  "orig_nbformat": 4
 },
 "nbformat": 4,
 "nbformat_minor": 2
}
