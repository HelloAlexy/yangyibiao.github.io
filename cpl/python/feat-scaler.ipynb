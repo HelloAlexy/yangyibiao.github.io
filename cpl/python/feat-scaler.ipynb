{
 "cells": [
  {
   "cell_type": "markdown",
   "metadata": {},
   "source": [
    "特征标准化"
   ]
  },
  {
   "cell_type": "code",
   "execution_count": 1,
   "metadata": {},
   "outputs": [
    {
     "data": {
      "text/plain": [
       "array([[0.        , 0.        , 0.        ],\n",
       "       [0.41666667, 0.19642857, 0.16129032],\n",
       "       [0.75      , 0.66071429, 0.82795699],\n",
       "       [1.        , 1.        , 1.        ]])"
      ]
     },
     "execution_count": 1,
     "metadata": {},
     "output_type": "execute_result"
    }
   ],
   "source": [
    "import numpy as np\n",
    "from sklearn.preprocessing import MinMaxScaler, MaxAbsScaler, scale\n",
    "\n",
    "X = np.array([\n",
    "    [1, '周六', '吃饭', '晴天', '轻松', '清零', '精彩', 25.2, 0.5],\n",
    "    [6, '周六', '逛街', '晴天', '轻松', '平缓', '无聊', 27.4, 2.0],\n",
    "    [10, '周六', '学习', '雨天', '轻松', '严峻', '无聊', 32.6, 8.2],\n",
    "    [13, '周六', '逛街', '晴天', '正常', '清零', '精彩', 36.4, 9.8],\n",
    "])\n",
    "\n",
    "MinMaxScaler().fit_transform(X[:,[0,7,8]])"
   ]
  },
  {
   "cell_type": "code",
   "execution_count": 2,
   "metadata": {},
   "outputs": [
    {
     "data": {
      "text/plain": [
       "array([[0.07692308, 0.69230769, 0.05102041],\n",
       "       [0.46153846, 0.75274725, 0.20408163],\n",
       "       [0.76923077, 0.8956044 , 0.83673469],\n",
       "       [1.        , 1.        , 1.        ]])"
      ]
     },
     "execution_count": 2,
     "metadata": {},
     "output_type": "execute_result"
    }
   ],
   "source": [
    "MaxAbsScaler().fit_transform(X[:,[0,7,8]])"
   ]
  },
  {
   "cell_type": "code",
   "execution_count": 3,
   "metadata": {},
   "outputs": [
    {
     "data": {
      "text/plain": [
       "array([[-1.44444444, -1.1861146 , -1.17034706],\n",
       "       [-0.33333333, -0.68429689, -0.79077504],\n",
       "       [ 0.55555556,  0.50181772,  0.77812264],\n",
       "       [ 1.22222222,  1.36859377,  1.18299946]])"
      ]
     },
     "execution_count": 3,
     "metadata": {},
     "output_type": "execute_result"
    }
   ],
   "source": [
    "x = scale(X[:,[0,7,8]])\n",
    "x"
   ]
  },
  {
   "cell_type": "code",
   "execution_count": 4,
   "metadata": {},
   "outputs": [
    {
     "data": {
      "text/plain": [
       "array([ 5.55111512e-17,  2.22044605e-16, -5.55111512e-17])"
      ]
     },
     "execution_count": 4,
     "metadata": {},
     "output_type": "execute_result"
    }
   ],
   "source": [
    "x.mean(axis=0)"
   ]
  },
  {
   "cell_type": "code",
   "execution_count": 5,
   "metadata": {},
   "outputs": [
    {
     "data": {
      "text/plain": [
       "array([1., 1., 1.])"
      ]
     },
     "execution_count": 5,
     "metadata": {},
     "output_type": "execute_result"
    }
   ],
   "source": [
    "x.std(axis=0)"
   ]
  }
 ],
 "metadata": {
  "interpreter": {
   "hash": "e7370f93d1d0cde622a1f8e1c04877d8463912d04d973331ad4851f04de6915a"
  },
  "kernelspec": {
   "display_name": "Python 3.9.7 64-bit",
   "name": "python3"
  },
  "language_info": {
   "codemirror_mode": {
    "name": "ipython",
    "version": 3
   },
   "file_extension": ".py",
   "mimetype": "text/x-python",
   "name": "python",
   "nbconvert_exporter": "python",
   "pygments_lexer": "ipython3",
   "version": "3.10.4"
  },
  "orig_nbformat": 4
 },
 "nbformat": 4,
 "nbformat_minor": 2
}
