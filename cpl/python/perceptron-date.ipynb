{
 "cells": [
  {
   "cell_type": "code",
   "execution_count": 1,
   "metadata": {},
   "outputs": [
    {
     "data": {
      "text/plain": [
       "(<17x17 sparse matrix of type '<class 'numpy.float64'>'\n",
       " \twith 102 stored elements in Compressed Sparse Row format>,\n",
       " array([1, 1, 1, 1, 1, 1, 1, 1, 0, 0, 0, 0, 0, 0, 0, 0, 0]))"
      ]
     },
     "execution_count": 1,
     "metadata": {},
     "output_type": "execute_result"
    }
   ],
   "source": [
    "import numpy as np\n",
    "from sklearn.preprocessing import LabelBinarizer, OneHotEncoder\n",
    "\n",
    "X = np.array([\n",
    "    [1, '周六', '吃饭', '晴天', '轻松', '清零', '精彩'],\n",
    "    [2, '周日', '吃饭', '阴天', '轻松', '清零', '精彩'],\n",
    "    [3, '周日', '吃饭', '晴天', '轻松', '清零', '精彩'],\n",
    "    [4, '周六', '吃饭', '阴天', '轻松', '清零', '精彩'],\n",
    "    [5, '周间', '吃饭', '晴天', '轻松', '清零', '精彩'],\n",
    "    [6, '周六', '逛街', '晴天', '轻松', '平缓', '无聊'],\n",
    "    [7, '周日', '逛街', '晴天', '适中', '平缓', '无聊'],\n",
    "    [8, '周日', '逛街', '晴天', '轻松', '平缓', '精彩'],\n",
    "    [9, '周日', '逛街', '阴天', '适中', '平缓', '精彩'],\n",
    "    [10, '周六', '学习', '雨天', '轻松', '严峻', '无聊'],\n",
    "    [11, '周间', '学习', '雨天', '繁重', '严峻', '精彩'],\n",
    "    [12, '周间', '吃饭', '晴天', '繁重', '严峻', '无聊'],\n",
    "    [13, '周六', '逛街', '晴天', '适中', '清零', '精彩'],\n",
    "    [14, '周间', '逛街', '阴天', '适中', '清零', '精彩'],\n",
    "    [15, '周日', '逛街', '晴天', '轻松', '平缓', '无聊'],\n",
    "    [16, '周间', '吃饭', '晴天', '繁重', '严峻', '精彩'],\n",
    "    [17, '周六', '吃饭', '阴天', '适中', '平缓', '精彩'],\n",
    "])\n",
    "y = np.array(\n",
    "    ['是', '是', '是', '是', '是', '是', '是', '是',\n",
    "     '否', '否', '否', '否', '否', '否', '否', '否', '否']\n",
    ")\n",
    "\n",
    "X = OneHotEncoder().fit_transform(X[:, 1:7])\n",
    "y = LabelBinarizer().fit_transform(y).squeeze()\n",
    "\n",
    "X, y"
   ]
  },
  {
   "cell_type": "code",
   "execution_count": 4,
   "metadata": {},
   "outputs": [
    {
     "name": "stdout",
     "output_type": "stream",
     "text": [
      "-- Epoch 1\n",
      "Norm: 1.87, NNZs: 11, Bias: 0.000000, T: 10, Avg. loss: 0.852000\n",
      "Total training time: 0.00 seconds.\n",
      "-- Epoch 2\n",
      "Norm: 1.87, NNZs: 11, Bias: 0.000000, T: 20, Avg. loss: 0.300500\n",
      "Total training time: 0.00 seconds.\n",
      "-- Epoch 3\n",
      "Norm: 2.35, NNZs: 13, Bias: -0.005000, T: 30, Avg. loss: 0.250500\n",
      "Total training time: 0.00 seconds.\n",
      "-- Epoch 4\n",
      "Norm: 3.00, NNZs: 14, Bias: -0.010000, T: 40, Avg. loss: 0.400500\n",
      "Total training time: 0.00 seconds.\n",
      "-- Epoch 5\n",
      "Norm: 3.32, NNZs: 13, Bias: -0.005000, T: 50, Avg. loss: 0.251500\n",
      "Total training time: 0.00 seconds.\n",
      "-- Epoch 6\n",
      "Norm: 3.24, NNZs: 14, Bias: -0.005000, T: 60, Avg. loss: 0.350500\n",
      "Total training time: 0.00 seconds.\n",
      "-- Epoch 7\n",
      "Norm: 3.32, NNZs: 13, Bias: -0.005000, T: 70, Avg. loss: 0.250500\n",
      "Total training time: 0.00 seconds.\n",
      "-- Epoch 8\n",
      "Norm: 3.32, NNZs: 16, Bias: -0.010000, T: 80, Avg. loss: 0.149500\n",
      "Total training time: 0.00 seconds.\n",
      "-- Epoch 9\n",
      "Norm: 3.46, NNZs: 15, Bias: -0.005000, T: 90, Avg. loss: 0.351500\n",
      "Total training time: 0.00 seconds.\n",
      "-- Epoch 10\n",
      "Norm: 3.54, NNZs: 14, Bias: -0.005000, T: 100, Avg. loss: 0.250500\n",
      "Total training time: 0.00 seconds.\n",
      "-- Epoch 11\n",
      "Norm: 3.46, NNZs: 12, Bias: -0.005000, T: 110, Avg. loss: 0.350500\n",
      "Total training time: 0.00 seconds.\n",
      "-- Epoch 12\n",
      "Norm: 3.61, NNZs: 16, Bias: -0.010000, T: 120, Avg. loss: 0.049500\n",
      "Total training time: 0.00 seconds.\n",
      "-- Epoch 13\n",
      "Norm: 3.87, NNZs: 14, Bias: -0.005000, T: 130, Avg. loss: 0.251500\n",
      "Total training time: 0.00 seconds.\n",
      "-- Epoch 14\n",
      "Norm: 3.81, NNZs: 12, Bias: -0.005000, T: 140, Avg. loss: 0.350500\n",
      "Total training time: 0.00 seconds.\n",
      "-- Epoch 15\n",
      "Norm: 4.24, NNZs: 13, Bias: -0.005000, T: 150, Avg. loss: 0.251000\n",
      "Total training time: 0.00 seconds.\n",
      "-- Epoch 16\n",
      "Norm: 4.42, NNZs: 14, Bias: -0.010000, T: 160, Avg. loss: 0.300000\n",
      "Total training time: 0.00 seconds.\n",
      "-- Epoch 17\n",
      "Norm: 4.58, NNZs: 15, Bias: -0.005000, T: 170, Avg. loss: 0.001000\n",
      "Total training time: 0.00 seconds.\n",
      "-- Epoch 18\n",
      "Norm: 4.74, NNZs: 15, Bias: -0.005000, T: 180, Avg. loss: 0.150500\n",
      "Total training time: 0.00 seconds.\n",
      "-- Epoch 19\n",
      "Norm: 4.69, NNZs: 13, Bias: -0.005000, T: 190, Avg. loss: 0.350500\n",
      "Total training time: 0.00 seconds.\n",
      "-- Epoch 20\n",
      "Norm: 4.95, NNZs: 14, Bias: -0.010000, T: 200, Avg. loss: 0.200000\n",
      "Total training time: 0.00 seconds.\n",
      "-- Epoch 21\n",
      "Norm: 5.05, NNZs: 14, Bias: -0.005000, T: 210, Avg. loss: 0.051000\n",
      "Total training time: 0.00 seconds.\n",
      "-- Epoch 22\n",
      "Norm: 5.29, NNZs: 13, Bias: -0.005000, T: 220, Avg. loss: 0.050500\n",
      "Total training time: 0.00 seconds.\n",
      "Convergence after 22 epochs took 0.00 seconds\n"
     ]
    },
    {
     "data": {
      "text/plain": [
       "0.7142857142857143"
      ]
     },
     "execution_count": 4,
     "metadata": {},
     "output_type": "execute_result"
    }
   ],
   "source": [
    "from sklearn.linear_model import Perceptron\n",
    "\n",
    "train_index = [0, 1, 2, 5, 6, 9, 13, 14, 15, 16]\n",
    "test_index = [3, 4, 7, 8, 10, 11, 12]\n",
    "\n",
    "X_train, X_test, y_train, y_test = X[train_index, :], X[test_index, :], y[train_index], y[test_index]\n",
    "\n",
    "clf = Perceptron(eta0=0.5, verbose=True)  # 步长=0.5 输出日志\n",
    "clf.fit(X_train, y_train)\n",
    "clf.score(X_test, y_test)\n"
   ]
  },
  {
   "cell_type": "code",
   "execution_count": 3,
   "metadata": {},
   "outputs": [
    {
     "data": {
      "text/plain": [
       "(array([1, 1, 0, 0, 0, 0, 1]), array([1, 1, 1, 0, 0, 0, 0]))"
      ]
     },
     "execution_count": 3,
     "metadata": {},
     "output_type": "execute_result"
    }
   ],
   "source": [
    "clf.predict(X_test), y_test"
   ]
  }
 ],
 "metadata": {
  "interpreter": {
   "hash": "e7370f93d1d0cde622a1f8e1c04877d8463912d04d973331ad4851f04de6915a"
  },
  "kernelspec": {
   "display_name": "Python 3.10.4 64-bit",
   "language": "python",
   "name": "python3"
  },
  "language_info": {
   "codemirror_mode": {
    "name": "ipython",
    "version": 3
   },
   "file_extension": ".py",
   "mimetype": "text/x-python",
   "name": "python",
   "nbconvert_exporter": "python",
   "pygments_lexer": "ipython3",
   "version": "3.10.4"
  },
  "orig_nbformat": 4
 },
 "nbformat": 4,
 "nbformat_minor": 2
}
