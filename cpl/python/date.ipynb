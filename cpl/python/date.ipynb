{
 "cells": [
  {
   "cell_type": "code",
   "execution_count": 1,
   "metadata": {},
   "outputs": [
    {
     "data": {
      "text/plain": [
       "[[1, '青绿', '蜷缩', '浊响', '清晰', '凹陷', '硬滑', 0.697, 0.46],\n",
       " [2, '乌黑', '蜷缩', '沉闷', '清晰', '凹陷', '硬滑', 0.774, 0.376],\n",
       " [3, '乌黑', '蜷缩', '浊响', '清晰', '凹陷', '硬滑', 0.634, 0.264],\n",
       " [4, '青绿', '蜷缩', '沉闷', '清晰', '凹陷', '硬滑', 0.608, 0.318],\n",
       " [5, '浅白', '蜷缩', '浊响', '清晰', '凹陷', '硬滑', 0.556, 0.215],\n",
       " [6, '青绿', '稍蜷', '浊响', '清晰', '稍凹', '软粘', 0.403, 0.237],\n",
       " [7, '乌黑', '稍蜷', '浊响', '稍糊', '稍凹', '软粘', 0.481, 0.149],\n",
       " [8, '乌黑', '稍蜷', '浊响', '清晰', '稍凹', '硬滑', 0.437, 0.211],\n",
       " [9, '乌黑', '稍蜷', '沉闷', '稍糊', '稍凹', '硬滑', 0.666, 0.091],\n",
       " [10, '青绿', '硬挺', '清脆', '清晰', '平坦', '软粘', 0.243, 0.267],\n",
       " [11, '浅白', '硬挺', '清脆', '模糊', '平坦', '硬滑', 0.245, 0.057],\n",
       " [12, '浅白', '蜷缩', '浊响', '模糊', '平坦', '软粘', 0.343, 0.099],\n",
       " [13, '青绿', '稍蜷', '浊响', '稍糊', '凹陷', '硬滑', 0.639, 0.161],\n",
       " [14, '浅白', '稍蜷', '沉闷', '稍糊', '凹陷', '硬滑', 0.657, 0.198],\n",
       " [15, '乌黑', '稍蜷', '浊响', '清晰', '稍凹', '软粘', 0.36, 0.37],\n",
       " [16, '浅白', '蜷缩', '浊响', '模糊', '平坦', '硬滑', 0.593, 0.042],\n",
       " [17, '青绿', '蜷缩', '沉闷', '稍糊', '稍凹', '硬滑', 0.719, 0.103]]"
      ]
     },
     "execution_count": 1,
     "metadata": {},
     "output_type": "execute_result"
    }
   ],
   "source": [
    "X=[[1, '青绿', '蜷缩', '浊响', '清晰', '凹陷', '硬滑', 0.697, 0.460], \n",
    "[2, '乌黑', '蜷缩', '沉闷', '清晰', '凹陷', '硬滑', 0.774, 0.376], \n",
    "[3, '乌黑', '蜷缩', '浊响', '清晰', '凹陷', '硬滑', 0.634, 0.264], \n",
    "[4, '青绿', '蜷缩', '沉闷', '清晰', '凹陷', '硬滑', 0.608, 0.318], \n",
    "[5, '浅白', '蜷缩', '浊响', '清晰', '凹陷', '硬滑', 0.556, 0.215], \n",
    "[6, '青绿', '稍蜷', '浊响', '清晰', '稍凹', '软粘', 0.403, 0.237], \n",
    "[7, '乌黑', '稍蜷', '浊响', '稍糊', '稍凹', '软粘', 0.481, 0.149], \n",
    "[8, '乌黑', '稍蜷', '浊响', '清晰', '稍凹', '硬滑', 0.437, 0.211], \n",
    "[9, '乌黑', '稍蜷', '沉闷', '稍糊', '稍凹', '硬滑', 0.666, 0.091], \n",
    "[10, '青绿', '硬挺', '清脆', '清晰', '平坦', '软粘', 0.243, 0.267], \n",
    "[11, '浅白', '硬挺', '清脆', '模糊', '平坦', '硬滑', 0.245, 0.057], \n",
    "[12, '浅白', '蜷缩', '浊响', '模糊', '平坦', '软粘', 0.343, 0.099], \n",
    "[13, '青绿', '稍蜷', '浊响', '稍糊', '凹陷', '硬滑', 0.639, 0.161], \n",
    "[14, '浅白', '稍蜷', '沉闷', '稍糊', '凹陷', '硬滑', 0.657, 0.198], \n",
    "[15, '乌黑', '稍蜷', '浊响', '清晰', '稍凹', '软粘', 0.360, 0.370], \n",
    "[16, '浅白', '蜷缩', '浊响', '模糊', '平坦', '硬滑', 0.593, 0.042], \n",
    "[17, '青绿', '蜷缩', '沉闷', '稍糊', '稍凹', '硬滑', 0.719, 0.103],\n",
    "]\n",
    "y=['好瓜', '好瓜', '好瓜', '好瓜', '好瓜', '好瓜', '好瓜', '好瓜', '坏瓜', '坏瓜', '坏瓜', '坏瓜', '坏瓜', '坏瓜', '坏瓜', '坏瓜', '坏瓜']\n",
    "X"
   ]
  },
  {
   "cell_type": "code",
   "execution_count": 3,
   "metadata": {},
   "outputs": [
    {
     "name": "stdout",
     "output_type": "stream",
     "text": [
      "[[1. 0. 0. 0. 0. 0. 0. 0. 0. 0. 1. 0. 0. 1. 0. 0. 1. 0. 0. 0. 1. 0. 0. 0.\n",
      "  1. 1. 0.]\n",
      " [0. 1. 0. 0. 0. 0. 0. 0. 0. 0. 0. 1. 0. 1. 0. 0. 0. 1. 0. 0. 1. 0. 0. 0.\n",
      "  1. 1. 0.]\n",
      " [0. 0. 1. 0. 0. 0. 0. 0. 0. 0. 0. 1. 0. 1. 0. 0. 1. 0. 0. 0. 1. 0. 0. 0.\n",
      "  1. 1. 0.]\n",
      " [0. 0. 0. 1. 0. 0. 0. 0. 0. 0. 1. 0. 0. 0. 0. 1. 1. 0. 0. 0. 1. 0. 0. 1.\n",
      "  0. 0. 1.]\n",
      " [0. 0. 0. 0. 1. 0. 0. 0. 0. 0. 0. 1. 0. 0. 0. 1. 1. 0. 0. 0. 0. 1. 0. 1.\n",
      "  0. 0. 1.]\n",
      " [0. 0. 0. 0. 0. 1. 0. 0. 0. 0. 1. 0. 0. 0. 1. 0. 0. 0. 1. 0. 1. 0. 1. 0.\n",
      "  0. 0. 1.]\n",
      " [0. 0. 0. 0. 0. 0. 1. 0. 0. 0. 0. 0. 1. 0. 0. 1. 0. 1. 0. 0. 0. 1. 0. 0.\n",
      "  1. 1. 0.]\n",
      " [0. 0. 0. 0. 0. 0. 0. 1. 0. 0. 0. 1. 0. 0. 0. 1. 1. 0. 0. 0. 1. 0. 0. 1.\n",
      "  0. 0. 1.]\n",
      " [0. 0. 0. 0. 0. 0. 0. 0. 1. 0. 0. 0. 1. 1. 0. 0. 1. 0. 0. 1. 0. 0. 1. 0.\n",
      "  0. 1. 0.]\n",
      " [0. 0. 0. 0. 0. 0. 0. 0. 0. 1. 1. 0. 0. 1. 0. 0. 0. 1. 0. 0. 0. 1. 0. 1.\n",
      "  0. 1. 0.]] [1 1 1 1 1 0 0 0 0 0]\n"
     ]
    },
    {
     "data": {
      "text/plain": [
       "'date.pdf'"
      ]
     },
     "execution_count": 3,
     "metadata": {},
     "output_type": "execute_result"
    },
    {
     "data": {
      "image/png": "[encoded data removed]",
      "text/plain": [
       "<Figure size 432x288 with 1 Axes>"
      ]
     },
     "metadata": {
      "needs_background": "light"
     },
     "output_type": "display_data"
    }
   ],
   "source": [
    "from sklearn import tree\n",
    "from sklearn.preprocessing import LabelBinarizer, OneHotEncoder\n",
    "import graphviz \n",
    "\n",
    "X = [\n",
    "    [1, '周六', '吃饭', '晴天', '轻松', '清零', '好看'],\n",
    "    [2, '周日', '吃饭', '阴天', '轻松', '清零', '好看'],\n",
    "    [3, '周日', '吃饭', '晴天', '轻松', '清零', '好看'],\n",
    "    [6, '周六', '逛街', '晴天', '轻松', '平缓', '难看'],\n",
    "    [7, '周日', '逛街', '晴天', '较重', '平缓', '难看'],\n",
    "    [10, '周六', '学习', '雨天', '轻松', '严峻', '难看'],\n",
    "    [14, '周间', '逛街', '阴天', '较重', '清零', '好看'],\n",
    "    [15, '周日', '逛街', '晴天', '轻松', '平缓', '难看'],\n",
    "    [16, '周间', '吃饭', '晴天', '繁重', '严峻', '好看'],\n",
    "    [17, '周六', '吃饭', '阴天', '较重', '平缓', '好看'],\n",
    "]\n",
    "\n",
    "X_tset = [\n",
    "    [4, '周六', '吃饭', '阴天', '轻松', '清零', '好看'],\n",
    "    [5, '周间', '吃饭', '晴天', '轻松', '清零', '好看'],\n",
    "    [8, '周日', '逛街', '晴天', '轻松', '平缓', '好看'],\n",
    "    [9, '周日', '逛街', '阴天', '较重', '平缓', '好看'],\n",
    "    [11, '周间', '学习', '雨天', '繁重', '严峻', '好看'],\n",
    "    [12, '周间', '吃饭', '晴天', '繁重', '严峻', '难看'],\n",
    "    [13, '周六', '逛街', '晴天', '较重', '清零', '好看'],\n",
    "]\n",
    "\n",
    "y = ['是', '是', '是', '是', '是', '否', '否', '否', '否', '否']\n",
    "y_test = ['是', '是', '是',  '否', '否', '否', '否']\n",
    "\n",
    "enc = OneHotEncoder()\n",
    "X = enc.fit_transform(X).toarray()\n",
    "y = LabelBinarizer().fit_transform(y).squeeze()\n",
    "\n",
    "print(X, y)\n",
    "\n",
    "clf = tree.DecisionTreeClassifier()\n",
    "\n",
    "clf = clf.fit(X, y)\n",
    "\n",
    "tree.plot_tree(clf)\n",
    "\n",
    "dot_data = tree.export_graphviz(clf, out_file=None) \n",
    "graph = graphviz.Source(dot_data) \n",
    "graph\n"
   ]
  },
  {
   "cell_type": "code",
   "execution_count": 17,
   "metadata": {},
   "outputs": [
    {
     "data": {
      "text/plain": [
       "array([[1],\n",
       "       [2],\n",
       "       [3],\n",
       "       [4]])"
      ]
     },
     "execution_count": 17,
     "metadata": {},
     "output_type": "execute_result"
    }
   ],
   "source": [
    "import numpy as np\n",
    "\n",
    "np.sign(1)\n",
    "\n",
    "a = np.array([[1,2],[3,4]])\n",
    "\n",
    "(a**2).sum(axis=1)\n",
    "\n",
    "b = np.array([1,2,3,4]).reshape((-1,1))\n",
    "\n",
    "b"
   ]
  },
  {
   "cell_type": "code",
   "execution_count": 13,
   "metadata": {},
   "outputs": [
    {
     "name": "stdout",
     "output_type": "stream",
     "text": [
      "[[1 2]]\n"
     ]
    },
    {
     "data": {
      "text/plain": [
       "array([5])"
      ]
     },
     "execution_count": 13,
     "metadata": {},
     "output_type": "execute_result"
    }
   ],
   "source": [
    "Z = np.array([1,2])\n",
    "\n",
    "print(Z[np.newaxis,:])\n",
    "\n",
    "Z_norm = (Z[:,np.newaxis]**2).sum(axis=0)\n",
    "    \n",
    "Z_norm"
   ]
  },
  {
   "cell_type": "code",
   "execution_count": 19,
   "metadata": {},
   "outputs": [
    {
     "data": {
      "text/plain": [
       "3"
      ]
     },
     "execution_count": 19,
     "metadata": {},
     "output_type": "execute_result"
    }
   ],
   "source": [
    "conf = [['poly', '2'], ['poly', '3'], ['rbf', '']]\n",
    "\n",
    "len(conf)"
   ]
  },
  {
   "cell_type": "code",
   "execution_count": null,
   "metadata": {},
   "outputs": [],
   "source": []
  }
 ],
 "metadata": {
  "interpreter": {
   "hash": "e7370f93d1d0cde622a1f8e1c04877d8463912d04d973331ad4851f04de6915a"
  },
  "kernelspec": {
   "display_name": "Python 3.10.4 64-bit",
   "language": "python",
   "name": "python3"
  },
  "language_info": {
   "codemirror_mode": {
    "name": "ipython",
    "version": 3
   },
   "file_extension": ".py",
   "mimetype": "text/x-python",
   "name": "python",
   "nbconvert_exporter": "python",
   "pygments_lexer": "ipython3",
   "version": "3.10.4"
  },
  "orig_nbformat": 4
 },
 "nbformat": 4,
 "nbformat_minor": 2
}
