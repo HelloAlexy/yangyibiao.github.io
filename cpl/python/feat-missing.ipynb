{
 "cells": [
  {
   "cell_type": "markdown",
   "metadata": {},
   "source": [
    "缺失特征处理"
   ]
  },
  {
   "cell_type": "code",
   "execution_count": 5,
   "metadata": {},
   "outputs": [
    {
     "data": {
      "text/plain": [
       "array([[25.2],\n",
       "       [31.4],\n",
       "       [32.6],\n",
       "       [36.4]])"
      ]
     },
     "execution_count": 5,
     "metadata": {},
     "output_type": "execute_result"
    }
   ],
   "source": [
    "import numpy as np\n",
    "from sklearn.impute import SimpleImputer\n",
    "\n",
    "X = np.array([\n",
    "    [1, '周六', '吃饭', '晴天', '轻松', '清零', '精彩', 25.2, 0.5],\n",
    "    [6, '周六', '逛街', '晴天', '轻松', '平缓', '无聊', np.nan, 2.0],\n",
    "    [10, '周六', '-', '雨天', '轻松', '严峻', '无聊', 32.6, 8.2],\n",
    "    [13, '周六', '逛街', '晴天', '正常', '清零', '精彩', 36.4, 9.8],\n",
    "])\n",
    "\n",
    "imp_mean = SimpleImputer(strategy='mean')\n",
    "imp_mean.fit_transform(X[:,[7]])  # 用均值填充\n"
   ]
  },
  {
   "cell_type": "code",
   "execution_count": 6,
   "metadata": {},
   "outputs": [
    {
     "data": {
      "text/plain": [
       "array([[25.2],\n",
       "       [32.6],\n",
       "       [32.6],\n",
       "       [36.4]])"
      ]
     },
     "execution_count": 6,
     "metadata": {},
     "output_type": "execute_result"
    }
   ],
   "source": [
    "imp_median = SimpleImputer(strategy='median')\n",
    "imp_median.fit_transform(X[:,[7]]) # 用中位数填充"
   ]
  },
  {
   "cell_type": "code",
   "execution_count": 8,
   "metadata": {},
   "outputs": [
    {
     "data": {
      "text/plain": [
       "array([['吃饭'],\n",
       "       ['逛街'],\n",
       "       ['逛街'],\n",
       "       ['逛街']], dtype=object)"
      ]
     },
     "execution_count": 8,
     "metadata": {},
     "output_type": "execute_result"
    }
   ],
   "source": [
    "imp_frequent = SimpleImputer(missing_values='-', strategy='most_frequent')\n",
    "imp_frequent.fit_transform(X[:,[2]].astype('object')) # 用众数填充"
   ]
  },
  {
   "cell_type": "code",
   "execution_count": 27,
   "metadata": {},
   "outputs": [
    {
     "data": {
      "text/plain": [
       "array([[ 1. , 25.2,  0.5],\n",
       "       [ 6. , 28.9,  2. ],\n",
       "       [10. , 32.6,  8.2],\n",
       "       [13. , 36.4,  9.8]])"
      ]
     },
     "execution_count": 27,
     "metadata": {},
     "output_type": "execute_result"
    }
   ],
   "source": [
    "from sklearn.experimental import enable_iterative_imputer\n",
    "from sklearn.impute import IterativeImputer\n",
    "from sklearn.tree import DecisionTreeRegressor\n",
    "from sklearn.ensemble import ExtraTreesRegressor\n",
    "from sklearn.neighbors import KNeighborsRegressor\n",
    "# 回归器默认采用BayesianRidge 也可选DecisionTreeRegressor ExtraTreesRegressor KNeighborsRegressor\n",
    "imp_iter = IterativeImputer(estimator=KNeighborsRegressor(n_neighbors=2))\n",
    "imp_iter.fit_transform(X[:,[0,7,8]])"
   ]
  },
  {
   "cell_type": "code",
   "execution_count": null,
   "metadata": {},
   "outputs": [],
   "source": []
  }
 ],
 "metadata": {
  "interpreter": {
   "hash": "e7370f93d1d0cde622a1f8e1c04877d8463912d04d973331ad4851f04de6915a"
  },
  "kernelspec": {
   "display_name": "Python 3.9.7 64-bit",
   "name": "python3"
  },
  "language_info": {
   "codemirror_mode": {
    "name": "ipython",
    "version": 3
   },
   "file_extension": ".py",
   "mimetype": "text/x-python",
   "name": "python",
   "nbconvert_exporter": "python",
   "pygments_lexer": "ipython3",
   "version": "3.10.4"
  },
  "orig_nbformat": 4
 },
 "nbformat": 4,
 "nbformat_minor": 2
}
