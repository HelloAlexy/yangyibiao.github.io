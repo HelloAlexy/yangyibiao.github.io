{
 "cells": [
  {
   "cell_type": "markdown",
   "metadata": {},
   "source": [
    "独热编码"
   ]
  },
  {
   "cell_type": "code",
   "execution_count": 1,
   "metadata": {},
   "outputs": [
    {
     "data": {
      "text/plain": [
       "array([1, 1, 0, 0])"
      ]
     },
     "execution_count": 1,
     "metadata": {},
     "output_type": "execute_result"
    }
   ],
   "source": [
    "import numpy as np\n",
    "from sklearn.preprocessing import LabelBinarizer, OneHotEncoder\n",
    "\n",
    "X = np.array([\n",
    "    [1, '周六', '吃饭', '晴天', '轻松', '清零', '精彩'],\n",
    "    [6, '周六', '逛街', '晴天', '轻松', '平缓', '无聊'],\n",
    "    [10, '周六', '-', '雨天', '轻松', '严峻', '无聊'],\n",
    "    [13, '周六', '逛街', '晴天', '正常', '清零', '精彩'],\n",
    "])\n",
    "y = np.array(['是', '是', '否', '否'])\n",
    "LabelBinarizer().fit_transform(y).squeeze()  # 标记二值化\n"
   ]
  },
  {
   "cell_type": "code",
   "execution_count": 12,
   "metadata": {},
   "outputs": [
    {
     "data": {
      "text/plain": [
       "array([[1., 1., 0., 0., 1., 0., 0., 1., 0., 0., 1., 0., 1.],\n",
       "       [1., 0., 0., 1., 1., 0., 0., 1., 0., 1., 0., 1., 0.],\n",
       "       [1., 0., 1., 0., 0., 1., 0., 1., 1., 0., 0., 1., 0.],\n",
       "       [1., 0., 0., 1., 1., 0., 1., 0., 0., 0., 1., 0., 1.]])"
      ]
     },
     "execution_count": 12,
     "metadata": {},
     "output_type": "execute_result"
    }
   ],
   "source": [
    "enc = OneHotEncoder()\n",
    "enc.fit_transform(X[:,1:7]).toarray() # 对6个类别特征采用独热编码"
   ]
  },
  {
   "cell_type": "code",
   "execution_count": 13,
   "metadata": {},
   "outputs": [
    {
     "data": {
      "text/plain": [
       "array(['x0_周六', 'x1_吃饭', 'x1_学习', 'x1_逛街', 'x2_晴天', 'x2_雨天', 'x3_正常',\n",
       "       'x3_轻松', 'x4_严峻', 'x4_平缓', 'x4_清零', 'x5_无聊', 'x5_精彩'], dtype=object)"
      ]
     },
     "execution_count": 13,
     "metadata": {},
     "output_type": "execute_result"
    }
   ],
   "source": [
    "enc.get_feature_names_out() # 独热编码对应的原始特征"
   ]
  }
 ],
 "metadata": {
  "interpreter": {
   "hash": "e7370f93d1d0cde622a1f8e1c04877d8463912d04d973331ad4851f04de6915a"
  },
  "kernelspec": {
   "display_name": "Python 3.9.7 64-bit",
   "name": "python3"
  },
  "language_info": {
   "codemirror_mode": {
    "name": "ipython",
    "version": 3
   },
   "file_extension": ".py",
   "mimetype": "text/x-python",
   "name": "python",
   "nbconvert_exporter": "python",
   "pygments_lexer": "ipython3",
   "version": "3.10.4"
  },
  "orig_nbformat": 4
 },
 "nbformat": 4,
 "nbformat_minor": 2
}
