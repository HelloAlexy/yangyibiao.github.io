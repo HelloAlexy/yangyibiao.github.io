{
 "cells": [
  {
   "cell_type": "markdown",
   "metadata": {},
   "source": [
    "PCA 降维"
   ]
  },
  {
   "cell_type": "code",
   "execution_count": 1,
   "metadata": {},
   "outputs": [
    {
     "data": {
      "text/plain": [
       "array([[ 6.59008618, -0.65420003, -0.62672674],\n",
       "       [ 1.49765996,  0.41345689,  1.35501589],\n",
       "       [-2.55003899,  1.68197454, -0.64673241],\n",
       "       [-5.53770716, -1.4412314 , -0.08155674]])"
      ]
     },
     "execution_count": 1,
     "metadata": {},
     "output_type": "execute_result"
    }
   ],
   "source": [
    "import numpy as np\n",
    "from sklearn.decomposition import PCA\n",
    "\n",
    "X = np.array([\n",
    "    [1., 1., 0., 0., 1., 0., 0., 1., 0., 0., 1., 0., 1.],\n",
    "    [6., 0., 0., 1., 1., 0., 0., 1., 0., 1., 0., 1., 0.],\n",
    "    [10., 0., 1., 0., 0., 1., 0., 1., 1., 0., 0., 1., 0.],\n",
    "    [13., 0., 0., 1., 1., 0., 1., 0., 0., 0., 1., 0., 1.],\n",
    "])\n",
    "\n",
    "pca = PCA(n_components=3)\n",
    "XX = pca.fit_transform(X)\n",
    "XX"
   ]
  },
  {
   "cell_type": "code",
   "execution_count": 2,
   "metadata": {},
   "outputs": [
    {
     "data": {
      "text/plain": [
       "3.1261700065413254e-15"
      ]
     },
     "execution_count": 2,
     "metadata": {},
     "output_type": "execute_result"
    }
   ],
   "source": [
    "np.linalg.norm(X - pca.inverse_transform(XX))"
   ]
  },
  {
   "cell_type": "code",
   "execution_count": 3,
   "metadata": {},
   "outputs": [
    {
     "data": {
      "text/plain": [
       "array([[ 6.59008618, -0.65420003],\n",
       "       [ 1.49765996,  0.41345689],\n",
       "       [-2.55003899,  1.68197454],\n",
       "       [-5.53770716, -1.4412314 ]])"
      ]
     },
     "execution_count": 3,
     "metadata": {},
     "output_type": "execute_result"
    }
   ],
   "source": [
    "pca = PCA(n_components=2)\n",
    "XX = pca.fit_transform(X)\n",
    "XX"
   ]
  },
  {
   "cell_type": "code",
   "execution_count": 4,
   "metadata": {},
   "outputs": [
    {
     "data": {
      "text/plain": [
       "1.6290392142641013"
      ]
     },
     "execution_count": 4,
     "metadata": {},
     "output_type": "execute_result"
    }
   ],
   "source": [
    "np.linalg.norm(X - pca.inverse_transform(XX))"
   ]
  }
 ],
 "metadata": {
  "interpreter": {
   "hash": "e7370f93d1d0cde622a1f8e1c04877d8463912d04d973331ad4851f04de6915a"
  },
  "kernelspec": {
   "display_name": "Python 3.9.7 64-bit",
   "name": "python3"
  },
  "language_info": {
   "codemirror_mode": {
    "name": "ipython",
    "version": 3
   },
   "file_extension": ".py",
   "mimetype": "text/x-python",
   "name": "python",
   "nbconvert_exporter": "python",
   "pygments_lexer": "ipython3",
   "version": "3.10.4"
  },
  "orig_nbformat": 4
 },
 "nbformat": 4,
 "nbformat_minor": 2
}
